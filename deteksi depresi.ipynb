{
  "nbformat": 4,
  "nbformat_minor": 0,
  "metadata": {
    "colab": {
      "name": "Salinan dari TA-1.ipynb",
      "provenance": [],
      "collapsed_sections": [],
      "authorship_tag": "ABX9TyOyF/phiyanVNRdfbmNmejo",
      "include_colab_link": true
    },
    "kernelspec": {
      "name": "python3",
      "display_name": "Python 3"
    },
    "language_info": {
      "name": "python"
    }
  },
  "cells": [
    {
      "cell_type": "markdown",
      "metadata": {
        "id": "view-in-github",
        "colab_type": "text"
      },
      "source": [
        "<a href=\"https://colab.research.google.com/github/hafsahhaudli/Deteksi-Depresi-dengan-LSTM/blob/main/deteksi%20depresi.ipynb\" target=\"_parent\"><img src=\"https://colab.research.google.com/assets/colab-badge.svg\" alt=\"Open In Colab\"/></a>"
      ]
    },
    {
      "cell_type": "code",
      "execution_count": 1,
      "metadata": {
        "colab": {
          "base_uri": "https://localhost:8080/"
        },
        "id": "L0gNqkkjuK6O",
        "outputId": "b0d48605-d14c-4b83-8b67-8c6dcd5060fc"
      },
      "outputs": [
        {
          "output_type": "stream",
          "name": "stdout",
          "text": [
            "/usr/local/lib/python3.7/dist-packages/gdown/cli.py:131: FutureWarning: Option `--id` was deprecated in version 4.3.1 and will be removed in 5.0. You don't need to pass it anymore to use a file ID.\n",
            "  category=FutureWarning,\n",
            "Downloading...\n",
            "From: https://drive.google.com/uc?id=1tAu72jIYVf8j-f6z7oVOCtGviHJiY9nj\n",
            "To: /content/ysyni.csv\n",
            "100% 143k/143k [00:00<00:00, 70.4MB/s]\n",
            "/usr/local/lib/python3.7/dist-packages/gdown/cli.py:131: FutureWarning: Option `--id` was deprecated in version 4.3.1 and will be removed in 5.0. You don't need to pass it anymore to use a file ID.\n",
            "  category=FutureWarning,\n",
            "Downloading...\n",
            "From: https://drive.google.com/uc?id=1ZqvYZxIjVsi91AlgHuCkYRmoKkpA1Bqb\n",
            "To: /content/colloquial-indonesian-lexicon.csv\n",
            "100% 196k/196k [00:00<00:00, 86.3MB/s]\n",
            "/usr/local/lib/python3.7/dist-packages/gdown/cli.py:131: FutureWarning: Option `--id` was deprecated in version 4.3.1 and will be removed in 5.0. You don't need to pass it anymore to use a file ID.\n",
            "  category=FutureWarning,\n",
            "Downloading...\n",
            "From: https://drive.google.com/uc?id=1-5L1d_j3O-Dfvjwn5S8BVaj-IXRXY9eb\n",
            "To: /content/w2vec_wiki_cbow.txt\n",
            "100% 1.76G/1.76G [00:11<00:00, 156MB/s]\n",
            "/usr/local/lib/python3.7/dist-packages/gdown/cli.py:131: FutureWarning: Option `--id` was deprecated in version 4.3.1 and will be removed in 5.0. You don't need to pass it anymore to use a file ID.\n",
            "  category=FutureWarning,\n",
            "Downloading...\n",
            "From: https://drive.google.com/uc?id=1wylivefWGV9MSQ70CY5Z07OFAIy1h4ab\n",
            "To: /content/w2vec_wiki_skip.txt\n",
            "100% 1.76G/1.76G [00:22<00:00, 77.8MB/s]\n"
          ]
        }
      ],
      "source": [
        "# from google.colab import drive\n",
        "# drive.mount('/content/gdrive')\n",
        "\n",
        "!gdown --id 1tAu72jIYVf8j-f6z7oVOCtGviHJiY9nj     # dataset ysyni\n",
        "!gdown --id 1ZqvYZxIjVsi91AlgHuCkYRmoKkpA1Bqb     # colloquial-indonesian-lexicon\n",
        "!gdown --id 1-5L1d_j3O-Dfvjwn5S8BVaj-IXRXY9eb     # model cbow\n",
        "!gdown --id 1wylivefWGV9MSQ70CY5Z07OFAIy1h4ab     # skip-gram"
      ]
    },
    {
      "cell_type": "code",
      "source": [
        "import pandas as pd\n",
        "import re\n",
        "import string\n",
        "import nltk\n",
        "from nltk import word_tokenize, sent_tokenize \n",
        "nltk.download('all')\n",
        "from nltk.corpus import stopwords\n",
        "!pip install Sastrawi\n",
        "from Sastrawi.Stemmer.StemmerFactory import StemmerFactory\n",
        "import gensim\n",
        "from gensim.models import Word2Vec\n",
        "# df = pd.read_csv('/content/gdrive/My Drive/TUGAS AKHIR/DATASET/ysyni.csv')\n",
        "df = pd.read_csv('ysyni.csv')"
      ],
      "metadata": {
        "id": "IQGUvpp4zZi_",
        "colab": {
          "base_uri": "https://localhost:8080/"
        },
        "outputId": "bfe1eec9-bdfa-4b26-b7e7-4a7ecab676a3"
      },
      "execution_count": 2,
      "outputs": [
        {
          "output_type": "stream",
          "name": "stdout",
          "text": [
            "[nltk_data] Downloading collection 'all'\n",
            "[nltk_data]    | \n",
            "[nltk_data]    | Downloading package abc to /root/nltk_data...\n",
            "[nltk_data]    |   Package abc is already up-to-date!\n",
            "[nltk_data]    | Downloading package alpino to /root/nltk_data...\n",
            "[nltk_data]    |   Package alpino is already up-to-date!\n",
            "[nltk_data]    | Downloading package averaged_perceptron_tagger to\n",
            "[nltk_data]    |     /root/nltk_data...\n",
            "[nltk_data]    |   Package averaged_perceptron_tagger is already up-\n",
            "[nltk_data]    |       to-date!\n",
            "[nltk_data]    | Downloading package averaged_perceptron_tagger_ru to\n",
            "[nltk_data]    |     /root/nltk_data...\n",
            "[nltk_data]    |   Package averaged_perceptron_tagger_ru is already\n",
            "[nltk_data]    |       up-to-date!\n",
            "[nltk_data]    | Downloading package basque_grammars to\n",
            "[nltk_data]    |     /root/nltk_data...\n",
            "[nltk_data]    |   Package basque_grammars is already up-to-date!\n",
            "[nltk_data]    | Downloading package biocreative_ppi to\n",
            "[nltk_data]    |     /root/nltk_data...\n",
            "[nltk_data]    |   Package biocreative_ppi is already up-to-date!\n",
            "[nltk_data]    | Downloading package bllip_wsj_no_aux to\n",
            "[nltk_data]    |     /root/nltk_data...\n",
            "[nltk_data]    |   Package bllip_wsj_no_aux is already up-to-date!\n",
            "[nltk_data]    | Downloading package book_grammars to\n",
            "[nltk_data]    |     /root/nltk_data...\n",
            "[nltk_data]    |   Package book_grammars is already up-to-date!\n",
            "[nltk_data]    | Downloading package brown to /root/nltk_data...\n",
            "[nltk_data]    |   Package brown is already up-to-date!\n",
            "[nltk_data]    | Downloading package brown_tei to /root/nltk_data...\n",
            "[nltk_data]    |   Package brown_tei is already up-to-date!\n",
            "[nltk_data]    | Downloading package cess_cat to /root/nltk_data...\n",
            "[nltk_data]    |   Package cess_cat is already up-to-date!\n",
            "[nltk_data]    | Downloading package cess_esp to /root/nltk_data...\n",
            "[nltk_data]    |   Package cess_esp is already up-to-date!\n",
            "[nltk_data]    | Downloading package chat80 to /root/nltk_data...\n",
            "[nltk_data]    |   Package chat80 is already up-to-date!\n",
            "[nltk_data]    | Downloading package city_database to\n",
            "[nltk_data]    |     /root/nltk_data...\n",
            "[nltk_data]    |   Package city_database is already up-to-date!\n",
            "[nltk_data]    | Downloading package cmudict to /root/nltk_data...\n",
            "[nltk_data]    |   Package cmudict is already up-to-date!\n",
            "[nltk_data]    | Downloading package comparative_sentences to\n",
            "[nltk_data]    |     /root/nltk_data...\n",
            "[nltk_data]    |   Package comparative_sentences is already up-to-\n",
            "[nltk_data]    |       date!\n",
            "[nltk_data]    | Downloading package comtrans to /root/nltk_data...\n",
            "[nltk_data]    |   Package comtrans is already up-to-date!\n",
            "[nltk_data]    | Downloading package conll2000 to /root/nltk_data...\n",
            "[nltk_data]    |   Package conll2000 is already up-to-date!\n",
            "[nltk_data]    | Downloading package conll2002 to /root/nltk_data...\n",
            "[nltk_data]    |   Package conll2002 is already up-to-date!\n",
            "[nltk_data]    | Downloading package conll2007 to /root/nltk_data...\n",
            "[nltk_data]    |   Package conll2007 is already up-to-date!\n",
            "[nltk_data]    | Downloading package crubadan to /root/nltk_data...\n",
            "[nltk_data]    |   Package crubadan is already up-to-date!\n",
            "[nltk_data]    | Downloading package dependency_treebank to\n",
            "[nltk_data]    |     /root/nltk_data...\n",
            "[nltk_data]    |   Package dependency_treebank is already up-to-date!\n",
            "[nltk_data]    | Downloading package dolch to /root/nltk_data...\n",
            "[nltk_data]    |   Package dolch is already up-to-date!\n",
            "[nltk_data]    | Downloading package europarl_raw to\n",
            "[nltk_data]    |     /root/nltk_data...\n",
            "[nltk_data]    |   Package europarl_raw is already up-to-date!\n",
            "[nltk_data]    | Downloading package extended_omw to\n",
            "[nltk_data]    |     /root/nltk_data...\n",
            "[nltk_data]    |   Package extended_omw is already up-to-date!\n",
            "[nltk_data]    | Downloading package floresta to /root/nltk_data...\n",
            "[nltk_data]    |   Package floresta is already up-to-date!\n",
            "[nltk_data]    | Downloading package framenet_v15 to\n",
            "[nltk_data]    |     /root/nltk_data...\n",
            "[nltk_data]    |   Package framenet_v15 is already up-to-date!\n",
            "[nltk_data]    | Downloading package framenet_v17 to\n",
            "[nltk_data]    |     /root/nltk_data...\n",
            "[nltk_data]    |   Package framenet_v17 is already up-to-date!\n",
            "[nltk_data]    | Downloading package gazetteers to /root/nltk_data...\n",
            "[nltk_data]    |   Package gazetteers is already up-to-date!\n",
            "[nltk_data]    | Downloading package genesis to /root/nltk_data...\n",
            "[nltk_data]    |   Package genesis is already up-to-date!\n",
            "[nltk_data]    | Downloading package gutenberg to /root/nltk_data...\n",
            "[nltk_data]    |   Package gutenberg is already up-to-date!\n",
            "[nltk_data]    | Downloading package ieer to /root/nltk_data...\n",
            "[nltk_data]    |   Package ieer is already up-to-date!\n",
            "[nltk_data]    | Downloading package inaugural to /root/nltk_data...\n",
            "[nltk_data]    |   Package inaugural is already up-to-date!\n",
            "[nltk_data]    | Downloading package indian to /root/nltk_data...\n",
            "[nltk_data]    |   Package indian is already up-to-date!\n",
            "[nltk_data]    | Downloading package jeita to /root/nltk_data...\n",
            "[nltk_data]    |   Package jeita is already up-to-date!\n",
            "[nltk_data]    | Downloading package kimmo to /root/nltk_data...\n",
            "[nltk_data]    |   Package kimmo is already up-to-date!\n",
            "[nltk_data]    | Downloading package knbc to /root/nltk_data...\n",
            "[nltk_data]    |   Package knbc is already up-to-date!\n",
            "[nltk_data]    | Downloading package large_grammars to\n",
            "[nltk_data]    |     /root/nltk_data...\n",
            "[nltk_data]    |   Package large_grammars is already up-to-date!\n",
            "[nltk_data]    | Downloading package lin_thesaurus to\n",
            "[nltk_data]    |     /root/nltk_data...\n",
            "[nltk_data]    |   Package lin_thesaurus is already up-to-date!\n",
            "[nltk_data]    | Downloading package mac_morpho to /root/nltk_data...\n",
            "[nltk_data]    |   Package mac_morpho is already up-to-date!\n",
            "[nltk_data]    | Downloading package machado to /root/nltk_data...\n",
            "[nltk_data]    |   Package machado is already up-to-date!\n",
            "[nltk_data]    | Downloading package masc_tagged to /root/nltk_data...\n",
            "[nltk_data]    |   Package masc_tagged is already up-to-date!\n",
            "[nltk_data]    | Downloading package maxent_ne_chunker to\n",
            "[nltk_data]    |     /root/nltk_data...\n",
            "[nltk_data]    |   Package maxent_ne_chunker is already up-to-date!\n",
            "[nltk_data]    | Downloading package maxent_treebank_pos_tagger to\n",
            "[nltk_data]    |     /root/nltk_data...\n",
            "[nltk_data]    |   Package maxent_treebank_pos_tagger is already up-\n",
            "[nltk_data]    |       to-date!\n",
            "[nltk_data]    | Downloading package moses_sample to\n",
            "[nltk_data]    |     /root/nltk_data...\n",
            "[nltk_data]    |   Package moses_sample is already up-to-date!\n",
            "[nltk_data]    | Downloading package movie_reviews to\n",
            "[nltk_data]    |     /root/nltk_data...\n",
            "[nltk_data]    |   Package movie_reviews is already up-to-date!\n",
            "[nltk_data]    | Downloading package mte_teip5 to /root/nltk_data...\n",
            "[nltk_data]    |   Package mte_teip5 is already up-to-date!\n",
            "[nltk_data]    | Downloading package mwa_ppdb to /root/nltk_data...\n",
            "[nltk_data]    |   Package mwa_ppdb is already up-to-date!\n",
            "[nltk_data]    | Downloading package names to /root/nltk_data...\n",
            "[nltk_data]    |   Package names is already up-to-date!\n",
            "[nltk_data]    | Downloading package nombank.1.0 to /root/nltk_data...\n",
            "[nltk_data]    |   Package nombank.1.0 is already up-to-date!\n",
            "[nltk_data]    | Downloading package nonbreaking_prefixes to\n",
            "[nltk_data]    |     /root/nltk_data...\n",
            "[nltk_data]    |   Package nonbreaking_prefixes is already up-to-date!\n",
            "[nltk_data]    | Downloading package nps_chat to /root/nltk_data...\n",
            "[nltk_data]    |   Package nps_chat is already up-to-date!\n",
            "[nltk_data]    | Downloading package omw to /root/nltk_data...\n",
            "[nltk_data]    |   Package omw is already up-to-date!\n",
            "[nltk_data]    | Downloading package omw-1.4 to /root/nltk_data...\n",
            "[nltk_data]    |   Package omw-1.4 is already up-to-date!\n",
            "[nltk_data]    | Downloading package opinion_lexicon to\n",
            "[nltk_data]    |     /root/nltk_data...\n",
            "[nltk_data]    |   Package opinion_lexicon is already up-to-date!\n",
            "[nltk_data]    | Downloading package panlex_swadesh to\n",
            "[nltk_data]    |     /root/nltk_data...\n",
            "[nltk_data]    |   Package panlex_swadesh is already up-to-date!\n",
            "[nltk_data]    | Downloading package paradigms to /root/nltk_data...\n",
            "[nltk_data]    |   Package paradigms is already up-to-date!\n",
            "[nltk_data]    | Downloading package pe08 to /root/nltk_data...\n",
            "[nltk_data]    |   Package pe08 is already up-to-date!\n",
            "[nltk_data]    | Downloading package perluniprops to\n",
            "[nltk_data]    |     /root/nltk_data...\n",
            "[nltk_data]    |   Package perluniprops is already up-to-date!\n",
            "[nltk_data]    | Downloading package pil to /root/nltk_data...\n",
            "[nltk_data]    |   Package pil is already up-to-date!\n",
            "[nltk_data]    | Downloading package pl196x to /root/nltk_data...\n",
            "[nltk_data]    |   Package pl196x is already up-to-date!\n",
            "[nltk_data]    | Downloading package porter_test to /root/nltk_data...\n",
            "[nltk_data]    |   Package porter_test is already up-to-date!\n",
            "[nltk_data]    | Downloading package ppattach to /root/nltk_data...\n",
            "[nltk_data]    |   Package ppattach is already up-to-date!\n",
            "[nltk_data]    | Downloading package problem_reports to\n",
            "[nltk_data]    |     /root/nltk_data...\n",
            "[nltk_data]    |   Package problem_reports is already up-to-date!\n",
            "[nltk_data]    | Downloading package product_reviews_1 to\n",
            "[nltk_data]    |     /root/nltk_data...\n",
            "[nltk_data]    |   Package product_reviews_1 is already up-to-date!\n",
            "[nltk_data]    | Downloading package product_reviews_2 to\n",
            "[nltk_data]    |     /root/nltk_data...\n",
            "[nltk_data]    |   Package product_reviews_2 is already up-to-date!\n",
            "[nltk_data]    | Downloading package propbank to /root/nltk_data...\n",
            "[nltk_data]    |   Package propbank is already up-to-date!\n",
            "[nltk_data]    | Downloading package pros_cons to /root/nltk_data...\n",
            "[nltk_data]    |   Package pros_cons is already up-to-date!\n",
            "[nltk_data]    | Downloading package ptb to /root/nltk_data...\n",
            "[nltk_data]    |   Package ptb is already up-to-date!\n",
            "[nltk_data]    | Downloading package punkt to /root/nltk_data...\n",
            "[nltk_data]    |   Package punkt is already up-to-date!\n",
            "[nltk_data]    | Downloading package qc to /root/nltk_data...\n",
            "[nltk_data]    |   Package qc is already up-to-date!\n",
            "[nltk_data]    | Downloading package reuters to /root/nltk_data...\n",
            "[nltk_data]    |   Package reuters is already up-to-date!\n",
            "[nltk_data]    | Downloading package rslp to /root/nltk_data...\n",
            "[nltk_data]    |   Package rslp is already up-to-date!\n",
            "[nltk_data]    | Downloading package rte to /root/nltk_data...\n",
            "[nltk_data]    |   Package rte is already up-to-date!\n",
            "[nltk_data]    | Downloading package sample_grammars to\n",
            "[nltk_data]    |     /root/nltk_data...\n",
            "[nltk_data]    |   Package sample_grammars is already up-to-date!\n",
            "[nltk_data]    | Downloading package semcor to /root/nltk_data...\n",
            "[nltk_data]    |   Package semcor is already up-to-date!\n",
            "[nltk_data]    | Downloading package senseval to /root/nltk_data...\n",
            "[nltk_data]    |   Package senseval is already up-to-date!\n",
            "[nltk_data]    | Downloading package sentence_polarity to\n",
            "[nltk_data]    |     /root/nltk_data...\n",
            "[nltk_data]    |   Package sentence_polarity is already up-to-date!\n",
            "[nltk_data]    | Downloading package sentiwordnet to\n",
            "[nltk_data]    |     /root/nltk_data...\n",
            "[nltk_data]    |   Package sentiwordnet is already up-to-date!\n",
            "[nltk_data]    | Downloading package shakespeare to /root/nltk_data...\n",
            "[nltk_data]    |   Package shakespeare is already up-to-date!\n",
            "[nltk_data]    | Downloading package sinica_treebank to\n",
            "[nltk_data]    |     /root/nltk_data...\n",
            "[nltk_data]    |   Package sinica_treebank is already up-to-date!\n",
            "[nltk_data]    | Downloading package smultron to /root/nltk_data...\n",
            "[nltk_data]    |   Package smultron is already up-to-date!\n",
            "[nltk_data]    | Downloading package snowball_data to\n",
            "[nltk_data]    |     /root/nltk_data...\n",
            "[nltk_data]    |   Package snowball_data is already up-to-date!\n",
            "[nltk_data]    | Downloading package spanish_grammars to\n",
            "[nltk_data]    |     /root/nltk_data...\n",
            "[nltk_data]    |   Package spanish_grammars is already up-to-date!\n",
            "[nltk_data]    | Downloading package state_union to /root/nltk_data...\n",
            "[nltk_data]    |   Package state_union is already up-to-date!\n",
            "[nltk_data]    | Downloading package stopwords to /root/nltk_data...\n",
            "[nltk_data]    |   Package stopwords is already up-to-date!\n",
            "[nltk_data]    | Downloading package subjectivity to\n",
            "[nltk_data]    |     /root/nltk_data...\n",
            "[nltk_data]    |   Package subjectivity is already up-to-date!\n",
            "[nltk_data]    | Downloading package swadesh to /root/nltk_data...\n",
            "[nltk_data]    |   Package swadesh is already up-to-date!\n",
            "[nltk_data]    | Downloading package switchboard to /root/nltk_data...\n",
            "[nltk_data]    |   Package switchboard is already up-to-date!\n",
            "[nltk_data]    | Downloading package tagsets to /root/nltk_data...\n",
            "[nltk_data]    |   Package tagsets is already up-to-date!\n",
            "[nltk_data]    | Downloading package timit to /root/nltk_data...\n",
            "[nltk_data]    |   Package timit is already up-to-date!\n",
            "[nltk_data]    | Downloading package toolbox to /root/nltk_data...\n",
            "[nltk_data]    |   Package toolbox is already up-to-date!\n",
            "[nltk_data]    | Downloading package treebank to /root/nltk_data...\n",
            "[nltk_data]    |   Package treebank is already up-to-date!\n",
            "[nltk_data]    | Downloading package twitter_samples to\n",
            "[nltk_data]    |     /root/nltk_data...\n",
            "[nltk_data]    |   Package twitter_samples is already up-to-date!\n",
            "[nltk_data]    | Downloading package udhr to /root/nltk_data...\n",
            "[nltk_data]    |   Package udhr is already up-to-date!\n",
            "[nltk_data]    | Downloading package udhr2 to /root/nltk_data...\n",
            "[nltk_data]    |   Package udhr2 is already up-to-date!\n",
            "[nltk_data]    | Downloading package unicode_samples to\n",
            "[nltk_data]    |     /root/nltk_data...\n",
            "[nltk_data]    |   Package unicode_samples is already up-to-date!\n",
            "[nltk_data]    | Downloading package universal_tagset to\n",
            "[nltk_data]    |     /root/nltk_data...\n",
            "[nltk_data]    |   Package universal_tagset is already up-to-date!\n",
            "[nltk_data]    | Downloading package universal_treebanks_v20 to\n",
            "[nltk_data]    |     /root/nltk_data...\n",
            "[nltk_data]    |   Package universal_treebanks_v20 is already up-to-\n",
            "[nltk_data]    |       date!\n",
            "[nltk_data]    | Downloading package vader_lexicon to\n",
            "[nltk_data]    |     /root/nltk_data...\n",
            "[nltk_data]    |   Package vader_lexicon is already up-to-date!\n",
            "[nltk_data]    | Downloading package verbnet to /root/nltk_data...\n",
            "[nltk_data]    |   Package verbnet is already up-to-date!\n",
            "[nltk_data]    | Downloading package verbnet3 to /root/nltk_data...\n",
            "[nltk_data]    |   Package verbnet3 is already up-to-date!\n",
            "[nltk_data]    | Downloading package webtext to /root/nltk_data...\n",
            "[nltk_data]    |   Package webtext is already up-to-date!\n",
            "[nltk_data]    | Downloading package wmt15_eval to /root/nltk_data...\n",
            "[nltk_data]    |   Package wmt15_eval is already up-to-date!\n",
            "[nltk_data]    | Downloading package word2vec_sample to\n",
            "[nltk_data]    |     /root/nltk_data...\n",
            "[nltk_data]    |   Package word2vec_sample is already up-to-date!\n",
            "[nltk_data]    | Downloading package wordnet to /root/nltk_data...\n",
            "[nltk_data]    |   Package wordnet is already up-to-date!\n",
            "[nltk_data]    | Downloading package wordnet2021 to /root/nltk_data...\n",
            "[nltk_data]    |   Package wordnet2021 is already up-to-date!\n",
            "[nltk_data]    | Downloading package wordnet31 to /root/nltk_data...\n",
            "[nltk_data]    |   Package wordnet31 is already up-to-date!\n",
            "[nltk_data]    | Downloading package wordnet_ic to /root/nltk_data...\n",
            "[nltk_data]    |   Package wordnet_ic is already up-to-date!\n",
            "[nltk_data]    | Downloading package words to /root/nltk_data...\n",
            "[nltk_data]    |   Package words is already up-to-date!\n",
            "[nltk_data]    | Downloading package ycoe to /root/nltk_data...\n",
            "[nltk_data]    |   Package ycoe is already up-to-date!\n",
            "[nltk_data]    | \n",
            "[nltk_data]  Done downloading collection all\n",
            "Requirement already satisfied: Sastrawi in /usr/local/lib/python3.7/dist-packages (1.0.1)\n"
          ]
        }
      ]
    },
    {
      "cell_type": "code",
      "source": [
        "df"
      ],
      "metadata": {
        "colab": {
          "base_uri": "https://localhost:8080/",
          "height": 423
        },
        "id": "TbWBTYr0F4kk",
        "outputId": "130a6c9e-4529-41f5-da9c-e547b185db65"
      },
      "execution_count": 3,
      "outputs": [
        {
          "output_type": "execute_result",
          "data": {
            "text/plain": [
              "     Unnamed: 0                    0                    1  \\\n",
              "0             0  2021-02-23 11:27:17  1364174988434055168   \n",
              "1             1  2021-02-21 15:27:59  1363510788283977730   \n",
              "2             2  2021-02-15 05:47:51  1361190464758505477   \n",
              "3             3  2021-02-10 00:10:41  1359293677437218816   \n",
              "4             4  2021-02-09 13:59:05  1359139762704027648   \n",
              "..          ...                  ...                  ...   \n",
              "995         995  2018-03-27 04:15:17   978485585676390400   \n",
              "996         996  2018-03-27 00:55:38   978435342968676352   \n",
              "997         997  2018-03-25 07:47:24   977814190529290240   \n",
              "998         998  2018-03-24 02:29:21   977371761632206848   \n",
              "999         999  2018-03-24 02:05:59   977365881209610240   \n",
              "\n",
              "                                                     2  \n",
              "0    RT @jusdalle: 🛒 Mal sepi, tenant pd tutup\\n🚗 P...  \n",
              "1    Ngebut qada puasa taun kmrn krn hampir sebulan...  \n",
              "2    @tarikulurskuy_ Kalo lagi butuh caffeine kick,...  \n",
              "3    I wonder how's that translator works on the #S...  \n",
              "4    Once a day of \"apa kabar kamu hari ini?\" means...  \n",
              "..                                                 ...  \n",
              "995  @kokokdirgantoro Twitter is always full of sur...  \n",
              "996  There are people who believe that it's wrong i...  \n",
              "997  @sumwand @bagoes_elang @herrysw Bisa kok :) ht...  \n",
              "998  @herrysw Ngga om, pulsanya 0. Hanya dipakai un...  \n",
              "999  @herrysw Nomor indosat saya hanya dipakai utk ...  \n",
              "\n",
              "[1000 rows x 4 columns]"
            ],
            "text/html": [
              "\n",
              "  <div id=\"df-5947a38d-a031-456a-9f6c-b41c28833e6c\">\n",
              "    <div class=\"colab-df-container\">\n",
              "      <div>\n",
              "<style scoped>\n",
              "    .dataframe tbody tr th:only-of-type {\n",
              "        vertical-align: middle;\n",
              "    }\n",
              "\n",
              "    .dataframe tbody tr th {\n",
              "        vertical-align: top;\n",
              "    }\n",
              "\n",
              "    .dataframe thead th {\n",
              "        text-align: right;\n",
              "    }\n",
              "</style>\n",
              "<table border=\"1\" class=\"dataframe\">\n",
              "  <thead>\n",
              "    <tr style=\"text-align: right;\">\n",
              "      <th></th>\n",
              "      <th>Unnamed: 0</th>\n",
              "      <th>0</th>\n",
              "      <th>1</th>\n",
              "      <th>2</th>\n",
              "    </tr>\n",
              "  </thead>\n",
              "  <tbody>\n",
              "    <tr>\n",
              "      <th>0</th>\n",
              "      <td>0</td>\n",
              "      <td>2021-02-23 11:27:17</td>\n",
              "      <td>1364174988434055168</td>\n",
              "      <td>RT @jusdalle: 🛒 Mal sepi, tenant pd tutup\\n🚗 P...</td>\n",
              "    </tr>\n",
              "    <tr>\n",
              "      <th>1</th>\n",
              "      <td>1</td>\n",
              "      <td>2021-02-21 15:27:59</td>\n",
              "      <td>1363510788283977730</td>\n",
              "      <td>Ngebut qada puasa taun kmrn krn hampir sebulan...</td>\n",
              "    </tr>\n",
              "    <tr>\n",
              "      <th>2</th>\n",
              "      <td>2</td>\n",
              "      <td>2021-02-15 05:47:51</td>\n",
              "      <td>1361190464758505477</td>\n",
              "      <td>@tarikulurskuy_ Kalo lagi butuh caffeine kick,...</td>\n",
              "    </tr>\n",
              "    <tr>\n",
              "      <th>3</th>\n",
              "      <td>3</td>\n",
              "      <td>2021-02-10 00:10:41</td>\n",
              "      <td>1359293677437218816</td>\n",
              "      <td>I wonder how's that translator works on the #S...</td>\n",
              "    </tr>\n",
              "    <tr>\n",
              "      <th>4</th>\n",
              "      <td>4</td>\n",
              "      <td>2021-02-09 13:59:05</td>\n",
              "      <td>1359139762704027648</td>\n",
              "      <td>Once a day of \"apa kabar kamu hari ini?\" means...</td>\n",
              "    </tr>\n",
              "    <tr>\n",
              "      <th>...</th>\n",
              "      <td>...</td>\n",
              "      <td>...</td>\n",
              "      <td>...</td>\n",
              "      <td>...</td>\n",
              "    </tr>\n",
              "    <tr>\n",
              "      <th>995</th>\n",
              "      <td>995</td>\n",
              "      <td>2018-03-27 04:15:17</td>\n",
              "      <td>978485585676390400</td>\n",
              "      <td>@kokokdirgantoro Twitter is always full of sur...</td>\n",
              "    </tr>\n",
              "    <tr>\n",
              "      <th>996</th>\n",
              "      <td>996</td>\n",
              "      <td>2018-03-27 00:55:38</td>\n",
              "      <td>978435342968676352</td>\n",
              "      <td>There are people who believe that it's wrong i...</td>\n",
              "    </tr>\n",
              "    <tr>\n",
              "      <th>997</th>\n",
              "      <td>997</td>\n",
              "      <td>2018-03-25 07:47:24</td>\n",
              "      <td>977814190529290240</td>\n",
              "      <td>@sumwand @bagoes_elang @herrysw Bisa kok :) ht...</td>\n",
              "    </tr>\n",
              "    <tr>\n",
              "      <th>998</th>\n",
              "      <td>998</td>\n",
              "      <td>2018-03-24 02:29:21</td>\n",
              "      <td>977371761632206848</td>\n",
              "      <td>@herrysw Ngga om, pulsanya 0. Hanya dipakai un...</td>\n",
              "    </tr>\n",
              "    <tr>\n",
              "      <th>999</th>\n",
              "      <td>999</td>\n",
              "      <td>2018-03-24 02:05:59</td>\n",
              "      <td>977365881209610240</td>\n",
              "      <td>@herrysw Nomor indosat saya hanya dipakai utk ...</td>\n",
              "    </tr>\n",
              "  </tbody>\n",
              "</table>\n",
              "<p>1000 rows × 4 columns</p>\n",
              "</div>\n",
              "      <button class=\"colab-df-convert\" onclick=\"convertToInteractive('df-5947a38d-a031-456a-9f6c-b41c28833e6c')\"\n",
              "              title=\"Convert this dataframe to an interactive table.\"\n",
              "              style=\"display:none;\">\n",
              "        \n",
              "  <svg xmlns=\"http://www.w3.org/2000/svg\" height=\"24px\"viewBox=\"0 0 24 24\"\n",
              "       width=\"24px\">\n",
              "    <path d=\"M0 0h24v24H0V0z\" fill=\"none\"/>\n",
              "    <path d=\"M18.56 5.44l.94 2.06.94-2.06 2.06-.94-2.06-.94-.94-2.06-.94 2.06-2.06.94zm-11 1L8.5 8.5l.94-2.06 2.06-.94-2.06-.94L8.5 2.5l-.94 2.06-2.06.94zm10 10l.94 2.06.94-2.06 2.06-.94-2.06-.94-.94-2.06-.94 2.06-2.06.94z\"/><path d=\"M17.41 7.96l-1.37-1.37c-.4-.4-.92-.59-1.43-.59-.52 0-1.04.2-1.43.59L10.3 9.45l-7.72 7.72c-.78.78-.78 2.05 0 2.83L4 21.41c.39.39.9.59 1.41.59.51 0 1.02-.2 1.41-.59l7.78-7.78 2.81-2.81c.8-.78.8-2.07 0-2.86zM5.41 20L4 18.59l7.72-7.72 1.47 1.35L5.41 20z\"/>\n",
              "  </svg>\n",
              "      </button>\n",
              "      \n",
              "  <style>\n",
              "    .colab-df-container {\n",
              "      display:flex;\n",
              "      flex-wrap:wrap;\n",
              "      gap: 12px;\n",
              "    }\n",
              "\n",
              "    .colab-df-convert {\n",
              "      background-color: #E8F0FE;\n",
              "      border: none;\n",
              "      border-radius: 50%;\n",
              "      cursor: pointer;\n",
              "      display: none;\n",
              "      fill: #1967D2;\n",
              "      height: 32px;\n",
              "      padding: 0 0 0 0;\n",
              "      width: 32px;\n",
              "    }\n",
              "\n",
              "    .colab-df-convert:hover {\n",
              "      background-color: #E2EBFA;\n",
              "      box-shadow: 0px 1px 2px rgba(60, 64, 67, 0.3), 0px 1px 3px 1px rgba(60, 64, 67, 0.15);\n",
              "      fill: #174EA6;\n",
              "    }\n",
              "\n",
              "    [theme=dark] .colab-df-convert {\n",
              "      background-color: #3B4455;\n",
              "      fill: #D2E3FC;\n",
              "    }\n",
              "\n",
              "    [theme=dark] .colab-df-convert:hover {\n",
              "      background-color: #434B5C;\n",
              "      box-shadow: 0px 1px 3px 1px rgba(0, 0, 0, 0.15);\n",
              "      filter: drop-shadow(0px 1px 2px rgba(0, 0, 0, 0.3));\n",
              "      fill: #FFFFFF;\n",
              "    }\n",
              "  </style>\n",
              "\n",
              "      <script>\n",
              "        const buttonEl =\n",
              "          document.querySelector('#df-5947a38d-a031-456a-9f6c-b41c28833e6c button.colab-df-convert');\n",
              "        buttonEl.style.display =\n",
              "          google.colab.kernel.accessAllowed ? 'block' : 'none';\n",
              "\n",
              "        async function convertToInteractive(key) {\n",
              "          const element = document.querySelector('#df-5947a38d-a031-456a-9f6c-b41c28833e6c');\n",
              "          const dataTable =\n",
              "            await google.colab.kernel.invokeFunction('convertToInteractive',\n",
              "                                                     [key], {});\n",
              "          if (!dataTable) return;\n",
              "\n",
              "          const docLinkHtml = 'Like what you see? Visit the ' +\n",
              "            '<a target=\"_blank\" href=https://colab.research.google.com/notebooks/data_table.ipynb>data table notebook</a>'\n",
              "            + ' to learn more about interactive tables.';\n",
              "          element.innerHTML = '';\n",
              "          dataTable['output_type'] = 'display_data';\n",
              "          await google.colab.output.renderOutput(dataTable, element);\n",
              "          const docLink = document.createElement('div');\n",
              "          docLink.innerHTML = docLinkHtml;\n",
              "          element.appendChild(docLink);\n",
              "        }\n",
              "      </script>\n",
              "    </div>\n",
              "  </div>\n",
              "  "
            ]
          },
          "metadata": {},
          "execution_count": 3
        }
      ]
    },
    {
      "cell_type": "code",
      "source": [
        "tweet = df['2']"
      ],
      "metadata": {
        "id": "BXk7VMZ40UOO"
      },
      "execution_count": 4,
      "outputs": []
    },
    {
      "cell_type": "code",
      "source": [
        "# tweet = tweet[4]"
      ],
      "metadata": {
        "id": "D6AENeiHfkYc"
      },
      "execution_count": 5,
      "outputs": []
    },
    {
      "cell_type": "code",
      "source": [
        "tweet"
      ],
      "metadata": {
        "id": "YV32rk38gJjQ",
        "colab": {
          "base_uri": "https://localhost:8080/"
        },
        "outputId": "516e92c7-adb2-4863-cf9c-4d671b52d214"
      },
      "execution_count": 6,
      "outputs": [
        {
          "output_type": "execute_result",
          "data": {
            "text/plain": [
              "0      RT @jusdalle: 🛒 Mal sepi, tenant pd tutup\\n🚗 P...\n",
              "1      Ngebut qada puasa taun kmrn krn hampir sebulan...\n",
              "2      @tarikulurskuy_ Kalo lagi butuh caffeine kick,...\n",
              "3      I wonder how's that translator works on the #S...\n",
              "4      Once a day of \"apa kabar kamu hari ini?\" means...\n",
              "                             ...                        \n",
              "995    @kokokdirgantoro Twitter is always full of sur...\n",
              "996    There are people who believe that it's wrong i...\n",
              "997    @sumwand @bagoes_elang @herrysw Bisa kok :) ht...\n",
              "998    @herrysw Ngga om, pulsanya 0. Hanya dipakai un...\n",
              "999    @herrysw Nomor indosat saya hanya dipakai utk ...\n",
              "Name: 2, Length: 1000, dtype: object"
            ]
          },
          "metadata": {},
          "execution_count": 6
        }
      ]
    },
    {
      "cell_type": "code",
      "source": [
        "# proses casefolding\n",
        "def casefolding(str):\n",
        "  str = str.lower()\n",
        "  return str"
      ],
      "metadata": {
        "id": "hoYQl10T4FqV"
      },
      "execution_count": 7,
      "outputs": []
    },
    {
      "cell_type": "code",
      "source": [
        "tw1cs = tweet.apply(casefolding)\n",
        "# tw1cs = casefolding(tweet)\n",
        "tw1cs"
      ],
      "metadata": {
        "colab": {
          "base_uri": "https://localhost:8080/"
        },
        "id": "UIRw4TjHM7Vc",
        "outputId": "65484b67-91e7-43b6-fb09-1f4eabb3a206"
      },
      "execution_count": 8,
      "outputs": [
        {
          "output_type": "execute_result",
          "data": {
            "text/plain": [
              "0      rt @jusdalle: 🛒 mal sepi, tenant pd tutup\\n🚗 p...\n",
              "1      ngebut qada puasa taun kmrn krn hampir sebulan...\n",
              "2      @tarikulurskuy_ kalo lagi butuh caffeine kick,...\n",
              "3      i wonder how's that translator works on the #s...\n",
              "4      once a day of \"apa kabar kamu hari ini?\" means...\n",
              "                             ...                        \n",
              "995    @kokokdirgantoro twitter is always full of sur...\n",
              "996    there are people who believe that it's wrong i...\n",
              "997    @sumwand @bagoes_elang @herrysw bisa kok :) ht...\n",
              "998    @herrysw ngga om, pulsanya 0. hanya dipakai un...\n",
              "999    @herrysw nomor indosat saya hanya dipakai utk ...\n",
              "Name: 2, Length: 1000, dtype: object"
            ]
          },
          "metadata": {},
          "execution_count": 8
        }
      ]
    },
    {
      "cell_type": "code",
      "source": [
        "# proses cleansing\n",
        "def cleaning(str):\n",
        "  # menghapus hashtag\n",
        "  str = re.sub(r\"(?:\\#+[\\w_]+[\\w\\'_\\-]*[\\w_]+)\", \" \", str)\n",
        "\n",
        "  # menghapus RT/cc\n",
        "  str = re.sub('rt', '', str)\n",
        "\n",
        "  # menghapus karakter twitter atau mention\n",
        "  str = re.sub(r'(?:@[\\w_]+)', ' ', str)\n",
        "\n",
        "  # menghapus URL\n",
        "  str = re.sub(r'https?://\\S+|www\\.\\S+', ' ', str)\n",
        "\n",
        "  #emoji\n",
        "  str = re.sub(r'[\"\\U0001F600-\\U0001F64F\" \"\\U0001F300-\\U0001F5FF\" \"\\U0001F680-\\U0001F6FF\" \"\\U0001F1E0-\\U0001F1FF\" \"\\U00002702-\\U000027B0\" \"\\U000024C2-\\U0001F251\"]', ' ', str)\n",
        "\n",
        "  # single char\n",
        "  str = re.sub(r\"\\b[a-zA-Z]\\b\", \" \", str)\n",
        "\n",
        "  # menghapus punctuation + angka\n",
        "  str = str.translate(str.maketrans(' ', ' ', string.punctuation + string.digits))\n",
        "\n",
        "  # whitespace removal\n",
        "  str = ' '.join(str.split())     #spasi awal dan akhir\n",
        "  str = str.strip()               #spasi double di tengah\n",
        "  str = re.sub('\\s+',' ', str)  \n",
        "\n",
        "  return str\n",
        "\n",
        "  # # melakukan proses normalize\n",
        "  # kata_asli = pd.read_csv('/content/gdrive/My Drive/TUGAS AKHIR/DATASET/slang_word_list.csv', sep=',', header=None)\n",
        "  # text_list = str.split(' ')\n",
        "  # kamus_slangword = {}\n",
        "\n",
        "  # for item in kata_asli.values:\n",
        "  #   kamus_slangword[item[0]] = item[1]\n",
        "\n",
        "  #   for index in range(len(text_list)):\n",
        "  #     if text_list[index] in kamus_slangword.keys():\n",
        "  #       text_list[index] = kamus_slangword[text_list[index]]\n",
        "\n",
        "  # return ' '.join(text_list)"
      ],
      "metadata": {
        "id": "_fILh1ZC1zGg"
      },
      "execution_count": 9,
      "outputs": []
    },
    {
      "cell_type": "code",
      "source": [
        "tw1c = tw1cs.apply(cleaning)\n",
        "# tw1c = cleaning(tw1cs)\n",
        "tw1c"
      ],
      "metadata": {
        "colab": {
          "base_uri": "https://localhost:8080/"
        },
        "id": "rb38xFmULnEx",
        "outputId": "4707ea63-7507-4b65-9813-21e6222726a5"
      },
      "execution_count": 10,
      "outputs": [
        {
          "output_type": "execute_result",
          "data": {
            "text/plain": [
              "0      mal sepi tenant pd tutup penjualan mobil anjlo...\n",
              "1      ngebut qada puasa taun kmrn krn hampir sebulan...\n",
              "2      kalo lagi butuh caffeine kick espresso amp ame...\n",
              "3          wonder how that translator works on the movie\n",
              "4      once day of apa kabar kamu hari ini means the ...\n",
              "                             ...                        \n",
              "995    twitter is always full of surprisingly tweet t...\n",
              "996    there are people who believe that it wrong ide...\n",
              "997                                             bisa kok\n",
              "998    ngga om pulsanya hanya dipakai untuk internet ...\n",
              "999    nomor indosat saya hanya dipakai utk paket int...\n",
              "Name: 2, Length: 1000, dtype: object"
            ]
          },
          "metadata": {},
          "execution_count": 10
        }
      ]
    },
    {
      "cell_type": "code",
      "source": [
        "# proses normalize\n",
        "def normalize(str):\n",
        "  # kata_asli = pd.read_csv('/content/gdrive/My Drive/TUGAS AKHIR/DATASET/colloquial-indonesian-lexicon.csv', sep=',', header=None)\n",
        "  kata_asli = pd.read_csv('colloquial-indonesian-lexicon.csv', sep=',', header=None)\n",
        "  text_list = str.split(' ')\n",
        "  kamus_slangword = {}\n",
        "\n",
        "  for item in kata_asli.values:\n",
        "    kamus_slangword[item[0]] = item[1]\n",
        "\n",
        "    for index in range(len(text_list)):\n",
        "      if text_list[index] in kamus_slangword.keys():\n",
        "        text_list[index] = kamus_slangword[text_list[index]]\n",
        "\n",
        "  return ' '.join(text_list)"
      ],
      "metadata": {
        "id": "2qUFmo5H2-X4"
      },
      "execution_count": 11,
      "outputs": []
    },
    {
      "cell_type": "code",
      "source": [
        "tw1n = tw1c.apply(normalize)\n",
        "# tw1n = normalize(tw1c)\n",
        "tw1n"
      ],
      "metadata": {
        "colab": {
          "base_uri": "https://localhost:8080/"
        },
        "id": "on9qf2ra6X65",
        "outputId": "622fa22b-cc8e-4a9d-e01d-58207247cd62"
      },
      "execution_count": 12,
      "outputs": [
        {
          "output_type": "execute_result",
          "data": {
            "text/plain": [
              "0      mal sepi banget pada tutup penjualan mobil anj...\n",
              "1      ngebut qada puasa tahun kemarin karena hampir ...\n",
              "2      kalo lagi butuh caffeine kick espresso amp ame...\n",
              "3          wonder how that translator works on the movie\n",
              "4      once day of apa kabar kamu hari ini means the ...\n",
              "                             ...                        \n",
              "995    twitter is always full of surprisingly tweet t...\n",
              "996    there are people who believe that itu wrong id...\n",
              "997                                             bisa kok\n",
              "998    enggak om pulsanya hanya dipakai untuk interne...\n",
              "999    nomor indosat saya hanya dipakai untuk paket i...\n",
              "Name: 2, Length: 1000, dtype: object"
            ]
          },
          "metadata": {},
          "execution_count": 12
        }
      ]
    },
    {
      "cell_type": "code",
      "source": [
        "# kata berulang list\n",
        "# tw1n = tw1n.apply(lambda x: \" \".join([w for i, w in enumerate(x.split()) if x.split().index(w) == i]))\n",
        "tw1n"
      ],
      "metadata": {
        "colab": {
          "base_uri": "https://localhost:8080/"
        },
        "id": "mGT8aB5oFPdc",
        "outputId": "2e3bffea-eb4f-41fe-d2e0-c1fb344e6db0"
      },
      "execution_count": 13,
      "outputs": [
        {
          "output_type": "execute_result",
          "data": {
            "text/plain": [
              "0      mal sepi banget pada tutup penjualan mobil anj...\n",
              "1      ngebut qada puasa tahun kemarin karena hampir ...\n",
              "2      kalo lagi butuh caffeine kick espresso amp ame...\n",
              "3          wonder how that translator works on the movie\n",
              "4      once day of apa kabar kamu hari ini means the ...\n",
              "                             ...                        \n",
              "995    twitter is always full of surprisingly tweet t...\n",
              "996    there are people who believe that itu wrong id...\n",
              "997                                             bisa kok\n",
              "998    enggak om pulsanya hanya dipakai untuk interne...\n",
              "999    nomor indosat saya hanya dipakai untuk paket i...\n",
              "Name: 2, Length: 1000, dtype: object"
            ]
          },
          "metadata": {},
          "execution_count": 13
        }
      ]
    },
    {
      "cell_type": "code",
      "source": [
        "def remove_stopword(str):\n",
        "  str = \" \".join([w for i, w in enumerate(str.split()) if str.split().index(w) == i])   # remove kata yang berulang\n",
        "  tokens = word_tokenize(str)\n",
        "  listStopword = set(stopwords.words('indonesian'))         # remove stopword b.indo\n",
        "  \n",
        "  removed = []\n",
        "  for t in tokens:                                          # proses tokenisasi\n",
        "    if t not in listStopword:\n",
        "      removed.append(t)\n",
        "  \n",
        "  return removed"
      ],
      "metadata": {
        "id": "PRTp9sOrxpPe"
      },
      "execution_count": 14,
      "outputs": []
    },
    {
      "cell_type": "code",
      "source": [
        "tw1r = tw1n.apply(remove_stopword)\n",
        "# tw1r = remove_stopword(tw1n)\n",
        "tw1r"
      ],
      "metadata": {
        "colab": {
          "base_uri": "https://localhost:8080/"
        },
        "id": "FIa-i3HGpew2",
        "outputId": "6021d878-44dd-45ac-e796-84fb12602e90"
      },
      "execution_count": 15,
      "outputs": [
        {
          "output_type": "execute_result",
          "data": {
            "text/plain": [
              "0      [mal, sepi, banget, tutup, penjualan, mobil, a...\n",
              "1      [ngebut, qada, puasa, kemarin, sebulan, gegara...\n",
              "2      [kalo, butuh, caffeine, kick, espresso, amp, a...\n",
              "3      [wonder, how, that, translator, works, on, the...\n",
              "4      [once, day, of, kabar, means, the, world, for,...\n",
              "                             ...                        \n",
              "995    [twitter, is, always, full, of, surprisingly, ...\n",
              "996    [there, are, people, who, believe, that, wrong...\n",
              "997                                                   []\n",
              "998    [om, pulsanya, dipakai, internet, terima, pang...\n",
              "999    [nomor, indosat, dipakai, paket, internet, ter...\n",
              "Name: 2, Length: 1000, dtype: object"
            ]
          },
          "metadata": {},
          "execution_count": 15
        }
      ]
    },
    {
      "cell_type": "code",
      "source": [
        "# # kata berulang per baris\n",
        "# s = tw1n[1]\n",
        "# l = s.split()\n",
        "# k = []\n",
        "# for i in l:\n",
        " \n",
        "#     # If condition is used to store unique string\n",
        "#     # in another list 'k'\n",
        "#     if (s.count(i)>=1 and (i not in k)):\n",
        "#         k.append(i)\n",
        "# print(' '.join(k))"
      ],
      "metadata": {
        "id": "9cKGM02ZEU0t"
      },
      "execution_count": 16,
      "outputs": []
    },
    {
      "cell_type": "code",
      "source": [
        "# # proses stopword removal\n",
        "\n",
        "# nltk.download('stopwords')\n",
        "# nltk.download('punkt')\n",
        "\n",
        "# def remove_stopword(str):\n",
        "#   # Melakukan proses stopwords\n",
        "#   stop_words = set(stopwords.words('/content/gdrive/My Drive/TUGAS AKHIR/DATASET/stopwordID.csv'))\n",
        "#   kata_tokens = word_tokenize(str)\n",
        "#   # filter = [w for w in kata_tokens if w not in stop_words]\n",
        "#   a = []\n",
        "  \n",
        "#   # proses tokenizing\n",
        "#   for w in kata_tokens:\n",
        "#       if w not in stop_words:\n",
        "#           a.append(w)\n",
        "          \n",
        "#   return a"
      ],
      "metadata": {
        "id": "NVEOin2cFpnf"
      },
      "execution_count": 17,
      "outputs": []
    },
    {
      "cell_type": "code",
      "source": [
        "# proses stemming\n",
        "factory = StemmerFactory()\n",
        "stemmer = factory.create_stemmer()\n",
        "\n",
        "def stemming(str):\n",
        "  return [stemmer.stem(word) for word in str]"
      ],
      "metadata": {
        "id": "B1xNF1LwIuNr"
      },
      "execution_count": 18,
      "outputs": []
    },
    {
      "cell_type": "code",
      "source": [
        "tw1s = tw1r.apply(stemming)\n",
        "# tw1s = stemming(tw1r)\n",
        "tw1s"
      ],
      "metadata": {
        "colab": {
          "base_uri": "https://localhost:8080/"
        },
        "id": "Hx5-J46TOYMx",
        "outputId": "2730d614-94c1-406f-fb26-c3d5886cf99a"
      },
      "execution_count": 19,
      "outputs": [
        {
          "output_type": "execute_result",
          "data": {
            "text/plain": [
              "0      [mal, sepi, banget, tutup, jual, mobil, anjlok...\n",
              "1      [ngebut, qada, puasa, kemarin, bulan, gegara, ...\n",
              "2      [kalo, butuh, caffeine, kick, espresso, amp, a...\n",
              "3      [wonder, how, that, translator, works, on, the...\n",
              "4      [once, day, of, kabar, means, the, world, for,...\n",
              "                             ...                        \n",
              "995    [twitter, is, always, full, of, surprisingly, ...\n",
              "996    [there, are, people, who, believe, that, wrong...\n",
              "997                                                   []\n",
              "998    [om, pulsa, pakai, internet, terima, panggil, ...\n",
              "999    [nomor, indosat, pakai, paket, internet, terim...\n",
              "Name: 2, Length: 1000, dtype: object"
            ]
          },
          "metadata": {},
          "execution_count": 19
        }
      ]
    },
    {
      "cell_type": "code",
      "source": [
        "# df = pd.DataFrame(tw1s) \n",
        "    \n",
        "# # saving the dataframe \n",
        "# df.to_csv('hasil.csv')"
      ],
      "metadata": {
        "id": "Enq8U4TPMLNU"
      },
      "execution_count": 20,
      "outputs": []
    },
    {
      "cell_type": "code",
      "source": [
        "tw = tw1s[0] + tw1s[1]\n",
        "tw"
      ],
      "metadata": {
        "colab": {
          "base_uri": "https://localhost:8080/"
        },
        "id": "5pAuF6fuA_EJ",
        "outputId": "1de25c4c-217c-440d-af86-6742e166b23a"
      },
      "execution_count": 22,
      "outputs": [
        {
          "output_type": "execute_result",
          "data": {
            "text/plain": [
              "['mal',\n",
              " 'sepi',\n",
              " 'banget',\n",
              " 'tutup',\n",
              " 'jual',\n",
              " 'mobil',\n",
              " 'anjlok',\n",
              " 'diskon',\n",
              " 'pajak',\n",
              " 'wisatawan',\n",
              " 'asing',\n",
              " 'turun',\n",
              " 'gambar',\n",
              " 'ngebut',\n",
              " 'qada',\n",
              " 'puasa',\n",
              " 'kemarin',\n",
              " 'bulan',\n",
              " 'gegara',\n",
              " 'gerd',\n",
              " 'oh',\n",
              " '']"
            ]
          },
          "metadata": {},
          "execution_count": 22
        }
      ]
    },
    {
      "cell_type": "code",
      "source": [
        "namaFileModelCbow = \"w2vec_wiki_cbow.txt\"\n",
        "namaFileModelSkip = \"w2vec_wiki_skip.txt\"\n",
        "\n",
        "modelCbow = gensim.models.KeyedVectors.load_word2vec_format(namaFileModelCbow)\n",
        "sim = modelCbow.wv.most_similar(\"mobil\")\n",
        "print(\"Model CBow : 10 kata terdekat dari mobil:{}\".format(sim))\n",
        "\n",
        "modelSkip = gensim.models.KeyedVectors.load_word2vec_format(namaFileModelSkip)\n",
        "sim = modelSkip.wv.most_similar(\"mobil\")\n",
        "print(\"Model Skip : 10 kata terdekat dari mobil:{}\".format(sim))"
      ],
      "metadata": {
        "colab": {
          "base_uri": "https://localhost:8080/"
        },
        "id": "ZKiggXL42mNM",
        "outputId": "798a867b-df4c-4a17-887a-6137d0877ba6"
      },
      "execution_count": 44,
      "outputs": [
        {
          "output_type": "stream",
          "name": "stderr",
          "text": [
            "/usr/local/lib/python3.7/dist-packages/ipykernel_launcher.py:5: DeprecationWarning: Call to deprecated `wv` (Attribute will be removed in 4.0.0, use self instead).\n",
            "  \"\"\"\n"
          ]
        },
        {
          "output_type": "stream",
          "name": "stdout",
          "text": [
            "Model CBow : 10 kata terdekat dari mobil:[('kendaraan', 0.7141164541244507), ('mobilnya', 0.7094937562942505), ('truk', 0.6933203339576721), ('Mobil', 0.6704035997390747), ('pengemudi', 0.6438370943069458), ('sepeda', 0.6202144622802734), ('minibus', 0.6156409978866577), ('SUV', 0.6140488982200623), ('motor', 0.6114803552627563), ('jeep', 0.599814772605896)]\n"
          ]
        },
        {
          "output_type": "stream",
          "name": "stderr",
          "text": [
            "/usr/local/lib/python3.7/dist-packages/ipykernel_launcher.py:9: DeprecationWarning: Call to deprecated `wv` (Attribute will be removed in 4.0.0, use self instead).\n",
            "  if __name__ == '__main__':\n"
          ]
        },
        {
          "output_type": "stream",
          "name": "stdout",
          "text": [
            "Model Skip : 10 kata terdekat dari mobil:[('Mobil', 0.7303351163864136), ('mobilnya', 0.7256810069084167), ('truk', 0.7227027416229248), ('kendaraan', 0.7029565572738647), ('minivan', 0.6928724646568298), ('pengemudi', 0.6881382465362549), ('balap', 0.6816605925559998), ('Mayländer', 0.672109842300415), ('mikrovan', 0.6686399579048157), ('kabriolet', 0.6595208644866943)]\n"
          ]
        }
      ]
    },
    {
      "cell_type": "code",
      "source": [
        "# split data train dan test\n",
        "\n",
        "from sklearn.model_selection import train_test_split\n",
        "\n",
        "TRAIN_SIZE = 0.8\n",
        "df_train, df_test = train_test_split(tw1s, test_size=1-TRAIN_SIZE, random_state=42)\n",
        "print(\"TRAIN size:\", len(df_train))\n",
        "print(\"TEST size:\", len(df_test))"
      ],
      "metadata": {
        "colab": {
          "base_uri": "https://localhost:8080/"
        },
        "id": "Z_zEN-PM4b8g",
        "outputId": "fba090b3-7bd9-4c02-e032-1ad1bcecb267"
      },
      "execution_count": 25,
      "outputs": [
        {
          "output_type": "stream",
          "name": "stdout",
          "text": [
            "TRAIN size: 800\n",
            "TEST size: 200\n"
          ]
        }
      ]
    },
    {
      "cell_type": "code",
      "source": [
        "import multiprocessing\n",
        "#TRAIN THIS - DISTANCE,SIMILARITIES, RANK\n",
        "#Dimensionality- makin banyak makin lama komputasi, makin detail\n",
        "num_features = 300  #300\n",
        "\n",
        "min_word_count = 3\n",
        "\n",
        "num_workers = multiprocessing.cpu_count()\n",
        "\n",
        "context_size = 7\n",
        "\n",
        "downsampling = 1e-3\n",
        "\n",
        "seed = 1"
      ],
      "metadata": {
        "id": "D138-xnR6QTp"
      },
      "execution_count": 31,
      "outputs": []
    },
    {
      "cell_type": "code",
      "source": [
        "import gensim.models.word2vec as w2v\n",
        "\n",
        "tex2vec = w2v.Word2Vec(\n",
        "    sg=1,\n",
        "    seed=seed,\n",
        "    workers = num_workers,\n",
        "    size=num_features,\n",
        "    min_count=min_word_count,\n",
        "    window=context_size,\n",
        "    sample=downsampling\n",
        ")"
      ],
      "metadata": {
        "id": "JQJXUud66S9M"
      },
      "execution_count": 32,
      "outputs": []
    },
    {
      "cell_type": "code",
      "source": [
        "tex2vec.build_vocab(tw1s)"
      ],
      "metadata": {
        "id": "bHLC3mAy6VTn"
      },
      "execution_count": 33,
      "outputs": []
    },
    {
      "cell_type": "code",
      "source": [
        "print(\"Anda memiliki panjang vocab: {0}\".format(len(tex2vec.wv.vocab)))"
      ],
      "metadata": {
        "colab": {
          "base_uri": "https://localhost:8080/"
        },
        "id": "NzmOfj306x9d",
        "outputId": "37da3999-8320-45b0-9b1b-a63c230cbb39"
      },
      "execution_count": 34,
      "outputs": [
        {
          "output_type": "stream",
          "name": "stdout",
          "text": [
            "Anda memiliki panjang vocab: 569\n"
          ]
        }
      ]
    },
    {
      "cell_type": "code",
      "source": [
        "tex2vec.train(tw1s,total_words=800, epochs=100)"
      ],
      "metadata": {
        "colab": {
          "base_uri": "https://localhost:8080/"
        },
        "id": "fzynqkqA61-L",
        "outputId": "f007aa7e-01ba-47e4-da8b-31573a66d2c7"
      },
      "execution_count": 35,
      "outputs": [
        {
          "output_type": "execute_result",
          "data": {
            "text/plain": [
              "(339804, 704900)"
            ]
          },
          "metadata": {},
          "execution_count": 35
        }
      ]
    },
    {
      "cell_type": "code",
      "source": [
        "import os\n",
        "\n",
        "if not os.path.exists('trained'):\n",
        "    os.makedirs('trained')"
      ],
      "metadata": {
        "id": "GP7K2CwF64p-"
      },
      "execution_count": 37,
      "outputs": []
    },
    {
      "cell_type": "code",
      "source": [
        "import sklearn.manifold\n",
        "#t sthocastic distributed neighbor embedding or PCA\n",
        "# video: how to visualize dataset easily\n",
        "tsne = sklearn.manifold.TSNE(n_components=2, random_state=0)\n",
        "all_word_vector_matrix = modelCbow.trainables.vectors_lockf"
      ],
      "metadata": {
        "colab": {
          "base_uri": "https://localhost:8080/",
          "height": 207
        },
        "id": "yckYHmAZ7IqX",
        "outputId": "d31f2dad-b987-4057-f0fa-e840cece4be0"
      },
      "execution_count": 40,
      "outputs": [
        {
          "output_type": "error",
          "ename": "AttributeError",
          "evalue": "ignored",
          "traceback": [
            "\u001b[0;31m---------------------------------------------------------------------------\u001b[0m",
            "\u001b[0;31mAttributeError\u001b[0m                            Traceback (most recent call last)",
            "\u001b[0;32m<ipython-input-40-81acb63e3e18>\u001b[0m in \u001b[0;36m<module>\u001b[0;34m()\u001b[0m\n\u001b[1;32m      3\u001b[0m \u001b[0;31m# video: how to visualize dataset easily\u001b[0m\u001b[0;34m\u001b[0m\u001b[0;34m\u001b[0m\u001b[0;34m\u001b[0m\u001b[0m\n\u001b[1;32m      4\u001b[0m \u001b[0mtsne\u001b[0m \u001b[0;34m=\u001b[0m \u001b[0msklearn\u001b[0m\u001b[0;34m.\u001b[0m\u001b[0mmanifold\u001b[0m\u001b[0;34m.\u001b[0m\u001b[0mTSNE\u001b[0m\u001b[0;34m(\u001b[0m\u001b[0mn_components\u001b[0m\u001b[0;34m=\u001b[0m\u001b[0;36m2\u001b[0m\u001b[0;34m,\u001b[0m \u001b[0mrandom_state\u001b[0m\u001b[0;34m=\u001b[0m\u001b[0;36m0\u001b[0m\u001b[0;34m)\u001b[0m\u001b[0;34m\u001b[0m\u001b[0;34m\u001b[0m\u001b[0m\n\u001b[0;32m----> 5\u001b[0;31m \u001b[0mall_word_vector_matrix\u001b[0m \u001b[0;34m=\u001b[0m \u001b[0mmodelCbow\u001b[0m\u001b[0;34m.\u001b[0m\u001b[0mtrainables\u001b[0m\u001b[0;34m.\u001b[0m\u001b[0mvectors_lockf\u001b[0m\u001b[0;34m\u001b[0m\u001b[0;34m\u001b[0m\u001b[0m\n\u001b[0m",
            "\u001b[0;31mAttributeError\u001b[0m: 'Word2VecKeyedVectors' object has no attribute 'trainables'"
          ]
        }
      ]
    },
    {
      "cell_type": "code",
      "source": [
        "%%time\n",
        "#AWAS LAMA BRO\n",
        "all_word_vector_matrix_2d = tsne.fit_transform(all_word_vector_matrix.reshape((-1, 1)))"
      ],
      "metadata": {
        "id": "qyY0AwYE7wAQ"
      },
      "execution_count": null,
      "outputs": []
    }
  ]
}